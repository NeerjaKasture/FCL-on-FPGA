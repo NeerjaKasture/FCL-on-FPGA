{
 "cells": [
  {
   "cell_type": "code",
   "execution_count": 3,
   "metadata": {},
   "outputs": [
    {
     "name": "stdout",
     "output_type": "stream",
     "text": [
      "Requirement already satisfied: pyserial in c:\\python312\\lib\\site-packages (3.5)Note: you may need to restart the kernel to use updated packages.\n",
      "\n"
     ]
    }
   ],
   "source": [
    "pip install pyserial"
   ]
  },
  {
   "cell_type": "code",
   "execution_count": 4,
   "metadata": {},
   "outputs": [
    {
     "name": "stdout",
     "output_type": "stream",
     "text": [
      "COM20 - USB Serial Port (COM20)\n"
     ]
    }
   ],
   "source": [
    "# Use this to find the com port used on your device\n",
    "import serial.tools.list_ports as port_list\n",
    "ports = list(port_list.comports())\n",
    "for p in ports:\n",
    "    print (p)"
   ]
  },
  {
   "cell_type": "code",
   "execution_count": 1,
   "metadata": {},
   "outputs": [
    {
     "name": "stdout",
     "output_type": "stream",
     "text": [
      "done\n",
      "done image\n",
      "done layer 1\n",
      "done layer 2\n"
     ]
    }
   ],
   "source": [
    "# Specify the file for the image created by 'FCL.ipynb' here\n",
    "filename = \"image.txt\"\n",
    "\n",
    "image_file = []\n",
    "\n",
    "with open(filename, 'r') as file:\n",
    "    content = file.read()\n",
    "    number_strings = content.split()\n",
    "    for num_str in number_strings:\n",
    "        num = int(num_str)\n",
    "        image_file.append(num)\n",
    "print(\"done image\")\n",
    "\n",
    "filename = \"layer1.txt\"\n",
    "\n",
    "layer_1_file = []\n",
    "with open(filename, 'r') as file:\n",
    "    content = file.read()\n",
    "    number_strings = content.split()\n",
    "    for num_str in number_strings:\n",
    "        num = int(num_str)\n",
    "        layer_1_file.append(num)\n",
    "print(\"done layer 1\")\n",
    "\n",
    "\n",
    "filename2 = \"layer2.txt\"\n",
    "\n",
    "layer_2_file = []\n",
    "with open(filename2, 'r') as file:\n",
    "    content = file.read()\n",
    "    number_strings = content.split()\n",
    "    for num_str in number_strings:\n",
    "        num = int(num_str)\n",
    "        layer_2_file.append(num)\n",
    "print(\"done layer 2\")"
   ]
  },
  {
   "cell_type": "code",
   "execution_count": 3,
   "metadata": {},
   "outputs": [
    {
     "name": "stdout",
     "output_type": "stream",
     "text": [
      "done\n",
      "Decimal equivalent: 4\n"
     ]
    }
   ],
   "source": [
    "import serial\n",
    "import time\n",
    "import numpy as np\n",
    "import struct\n",
    "\n",
    "def send_single_byte_negative(num):\n",
    "    if num < -128 or num > 127:\n",
    "        raise ValueError(\"Number must be in the range of a signed 8-bit integer (-128 to 127)\")\n",
    "    packed_data = struct.pack('b', num)  # 'b' represents a signed char (1 byte)\n",
    "\n",
    "    ser.write(packed_data)\n",
    "\n",
    "ser = serial.Serial('COM20', baudrate=9600)  # Replace 'COMx' with your actual serial port\n",
    "print(\"done\")\n",
    "\n",
    "\n",
    "IMAGE=image_file\n",
    "WEIGHTS_FLAT1=layer_1_file\n",
    "WEIGHTS_FLAT2=layer_2_file\n",
    "\n",
    "time.sleep(1)\n",
    "for i in IMAGE:\n",
    "    send_single_byte_negative(i)\n",
    "    time.sleep(0.001)\n",
    "\n",
    "time.sleep(1)\n",
    "for j in WEIGHTS_FLAT1:\n",
    "    send_single_byte_negative(j)\n",
    "    time.sleep(0.001)\n",
    "\n",
    "time.sleep(1)\n",
    "for k in WEIGHTS_FLAT2:\n",
    "    send_single_byte_negative(k)\n",
    "    time.sleep(0.001)\n",
    "\n",
    "a=0\n",
    "try:\n",
    "    while True:\n",
    "        if (a>0):\n",
    "            break\n",
    "        binary_byte = ser.read(1)\n",
    "        decimal_value = int.from_bytes(binary_byte, byteorder='big')\n",
    "        print(\"Decimal equivalent:\", decimal_value)\n",
    "        a=a+1\n",
    "\n",
    "\n",
    "\n",
    "except Exception as e:\n",
    "    print(\"An error occurred:\", e)\n",
    "ser.close()  # Close the serial port in case of any exception"
   ]
  },
  {
   "cell_type": "code",
   "execution_count": 2,
   "metadata": {},
   "outputs": [],
   "source": [
    "ser.close()"
   ]
  }
 ],
 "metadata": {
  "kernelspec": {
   "display_name": "Python 3",
   "language": "python",
   "name": "python3"
  },
  "language_info": {
   "codemirror_mode": {
    "name": "ipython",
    "version": 3
   },
   "file_extension": ".py",
   "mimetype": "text/x-python",
   "name": "python",
   "nbconvert_exporter": "python",
   "pygments_lexer": "ipython3",
   "version": "3.12.0"
  }
 },
 "nbformat": 4,
 "nbformat_minor": 2
}
