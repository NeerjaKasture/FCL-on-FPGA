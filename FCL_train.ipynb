{
 "cells": [
  {
   "cell_type": "code",
   "execution_count": 21,
   "metadata": {},
   "outputs": [
    {
     "name": "stdout",
     "output_type": "stream",
     "text": [
      "Demo Test Image: \n"
     ]
    },
    {
     "data": {
      "image/png": "[encoded data removed]",
      "text/plain": [
       "<Figure size 640x480 with 1 Axes>"
      ]
     },
     "metadata": {},
     "output_type": "display_data"
    },
    {
     "name": "stdout",
     "output_type": "stream",
     "text": [
      "7\n"
     ]
    }
   ],
   "source": [
    "import torch\n",
    "from torchvision import datasets, transforms\n",
    "import numpy as np\n",
    "import matplotlib.pyplot as plt\n",
    "\n",
    "torch.manual_seed(42)\n",
    "transform = transforms.Compose([\n",
    "    transforms.ToTensor(),  # Convert images to tensors\n",
    "    transforms.Normalize((0.5,), (0.5,))  # Normalize pixel values to the range [-1, 1]\n",
    "])\n",
    "mnist_trainset = datasets.MNIST(root='./data', train=True, download=True, transform=transform)\n",
    "train_loader = torch.utils.data.DataLoader(mnist_trainset, batch_size=10, shuffle=True)\n",
    "\n",
    "mnist_testset = datasets.MNIST(root='./data', train=False, download=True, transform=transform)\n",
    "test_loader = torch.utils.data.DataLoader(mnist_testset, batch_size=10, shuffle=True)\n",
    "\n",
    "print(\"Demo Test Image: \")\n",
    "image,label=mnist_testset[0]\n",
    "image=image.reshape(28,28)\n",
    "plt.imshow(image, cmap='gray')\n",
    "plt.show()\n",
    "print(label)\n"
   ]
  },
  {
   "cell_type": "code",
   "execution_count": 3,
   "metadata": {},
   "outputs": [
    {
     "name": "stdout",
     "output_type": "stream",
     "text": [
      "Epoch 1/5, Average Loss: 0.28092481360129506\n",
      "Epoch 2/5, Average Loss: 0.14811403541449059\n",
      "Epoch 3/5, Average Loss: 0.12233281199735939\n",
      "Epoch 4/5, Average Loss: 0.1048716199971021\n",
      "Epoch 5/5, Average Loss: 0.09405302003124863\n"
     ]
    }
   ],
   "source": [
    "import torch\n",
    "import torch.nn as nn\n",
    "import torch.optim as optim\n",
    "\n",
    "# Define a neural network model\n",
    "class NeuralNetwork(nn.Module):\n",
    "    def __init__(self):\n",
    "        super(NeuralNetwork, self).__init__()\n",
    "        self.quant = torch.quantization.QuantStub()\n",
    "        self.fc1 = nn.Linear(784, 512)\n",
    "        self.fc2 = nn.Linear(512, 10)\n",
    "        self.dequant = torch.quantization.DeQuantStub()\n",
    "\n",
    "    def forward(self, x): # uses relu activation function\n",
    "        x = self.quant(x)\n",
    "        x = torch.relu(self.fc1(x))\n",
    "        x = torch.log_softmax(self.fc2(x), dim=1)\n",
    "        x = self.dequant(x)\n",
    "        return x\n",
    "\n",
    "model = NeuralNetwork()\n",
    "model.qconfig = torch.ao.quantization.default_qconfig\n",
    "model.train()\n",
    "\n",
    "model_quantized = torch.ao.quantization.prepare_qat(model,inplace=False)\n",
    "\n",
    "criterion = nn.CrossEntropyLoss()\n",
    "optimizer = torch.optim.AdamW(model.parameters(), lr=0.01)\n",
    "\n",
    "def train(train_loader, net, epochs=5, total_iterations_limit=None):\n",
    "    cross_el = nn.CrossEntropyLoss()\n",
    "    optimizer = torch.optim.Adam(net.parameters(), lr=0.001)\n",
    "    total_iterations = 0\n",
    "\n",
    "    for epoch in range(epochs):\n",
    "        model.train()\n",
    "\n",
    "        loss_sum = 0\n",
    "        num_iterations = 0\n",
    "\n",
    "        for data in train_loader:\n",
    "            num_iterations += 1\n",
    "            total_iterations += 1\n",
    "            x, y = data\n",
    "            optimizer.zero_grad()\n",
    "            output = net(x.view(-1, 784))\n",
    "            loss = cross_el(output, y)\n",
    "            loss_sum += loss.item()\n",
    "            loss.backward()\n",
    "            optimizer.step()\n",
    "\n",
    "            if total_iterations_limit is not None and total_iterations >= total_iterations_limit:\n",
    "                return\n",
    "        \n",
    "        print(f\"Epoch {epoch+1}/{epochs}, Average Loss: {loss_sum / len(train_loader)}\")\n",
    "\n",
    "train(train_loader, model_quantized, epochs=5)"
   ]
  },
  {
   "cell_type": "code",
   "execution_count": 4,
   "metadata": {},
   "outputs": [
    {
     "data": {
      "text/plain": [
       "NeuralNetwork(\n",
       "  (quant): Quantize(scale=tensor([0.0157]), zero_point=tensor([64]), dtype=torch.quint8)\n",
       "  (fc1): QuantizedLinear(in_features=784, out_features=512, scale=1.0101691484451294, zero_point=72, qscheme=torch.per_tensor_affine)\n",
       "  (fc2): QuantizedLinear(in_features=512, out_features=10, scale=1.0301263332366943, zero_point=85, qscheme=torch.per_tensor_affine)\n",
       "  (dequant): DeQuantize()\n",
       ")"
      ]
     },
     "execution_count": 4,
     "metadata": {},
     "output_type": "execute_result"
    }
   ],
   "source": [
    "model_quantized = torch.ao.quantization.convert(model_quantized)\n",
    "model_quantized"
   ]
  },
  {
   "cell_type": "code",
   "execution_count": 5,
   "metadata": {},
   "outputs": [],
   "source": [
    "weights=[torch.int_repr(model_quantized.fc1.weight()).numpy(),torch.int_repr(model_quantized.fc2.weight()).numpy()]\n",
    "biases=[model_quantized.fc1.bias().detach().numpy(),model_quantized.fc2.bias().detach().numpy()]\n",
    "new_biases=[np.int8(biases[0]*100),np.int8(biases[1]*100)]"
   ]
  },
  {
   "cell_type": "code",
   "execution_count": 22,
   "metadata": {},
   "outputs": [
    {
     "name": "stdout",
     "output_type": "stream",
     "text": [
      "Accuracy: 0.9691\n",
      "Precision: 0.969131035670142\n",
      "Recall: 0.9691021779311175\n"
     ]
    }
   ],
   "source": [
    "from sklearn.metrics import accuracy_score, precision_score, recall_score\n",
    "\n",
    "def forward_pass(testset,weights,biases):\n",
    "    true_labels = []\n",
    "    predicted_labels = []\n",
    "    for i in range(len(testset)):\n",
    "        test_data,test_label=testset[i]\n",
    "        img = test_data.view(1,-1)\n",
    "        a=np.matmul(weights[0],img.T)+biases[0].reshape(-1,1)\n",
    "        a=torch.relu(a)\n",
    "        b=np.matmul(weights[1],a)+biases[1].reshape(-1,1) \n",
    "        y=torch.log_softmax(b,dim=0)\n",
    "        y=torch.argmax(y).item()\n",
    "        true_labels.append(test_label)\n",
    "        predicted_labels.append(y)\n",
    "\n",
    "    true_labels = np.array(true_labels)\n",
    "    predicted_labels = np.array(predicted_labels)\n",
    "    return true_labels,predicted_labels\n",
    "\n",
    "true_labels,predicted_labels=forward_pass(mnist_testset,weights,new_biases)\n",
    "\n",
    "accuracy = accuracy_score(true_labels, predicted_labels)\n",
    "precision = precision_score(true_labels, predicted_labels, average='macro')\n",
    "recall = recall_score(true_labels, predicted_labels, average='macro')\n",
    "\n",
    "print(\"Accuracy:\", accuracy)\n",
    "print(\"Precision:\", precision)\n",
    "print(\"Recall:\", recall)"
   ]
  },
  {
   "cell_type": "code",
   "execution_count": 27,
   "metadata": {},
   "outputs": [
    {
     "name": "stdout",
     "output_type": "stream",
     "text": [
      "(513, 786)\n",
      "(10, 514)\n"
     ]
    }
   ],
   "source": [
    "layer1=np.hstack((np.zeros((512,1)),weights[0],new_biases[0].reshape(-1,1)))\n",
    "last_row=np.zeros((1,layer1.shape[1]))\n",
    "last_row[:,-1]=1\n",
    "layer1=np.vstack((layer1,last_row))\n",
    "print(layer1.shape)\n",
    "layer2=np.hstack((np.zeros((10,1)),weights[1],new_biases[1].reshape(-1,1)))\n",
    "print(layer2.shape)\n",
    "layer1 = list(map(int, layer1.reshape(-1)))\n",
    "layer2 = list(map(int, layer2.reshape(-1)))"
   ]
  },
  {
   "cell_type": "code",
   "execution_count": 17,
   "metadata": {},
   "outputs": [],
   "source": [
    "# convert to text and run run_fpga next\n",
    "with open('layer1.txt', 'w') as file:\n",
    "    for num in layer1:\n",
    "        file.write(\"%d \" % num)\n",
    "\n",
    "with open('layer2.txt', 'w') as file:\n",
    "    for num in layer2:\n",
    "        file.write(\"%d \" % num)\n",
    "\n",
    "image,label=mnist_testset[0]\n",
    "load_image = np.concatenate(([0], image.view(-1), [1])).astype(int)\n",
    "load_image = list(map(int, load_image))\n",
    "with open('image.txt', 'w') as file:\n",
    "    for num in load_image:\n",
    "        file.write(\"%d \" % num)\n",
    "print(label)"
   ]
  }
 ],
 "metadata": {
  "kernelspec": {
   "display_name": "Python 3",
   "language": "python",
   "name": "python3"
  },
  "language_info": {
   "codemirror_mode": {
    "name": "ipython",
    "version": 3
   },
   "file_extension": ".py",
   "mimetype": "text/x-python",
   "name": "python",
   "nbconvert_exporter": "python",
   "pygments_lexer": "ipython3",
   "version": "3.12.1"
  }
 },
 "nbformat": 4,
 "nbformat_minor": 2
}
